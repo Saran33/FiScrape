{
 "cells": [
  {
   "cell_type": "code",
   "execution_count": 1,
   "source": [
    "import pandas as pd\n",
    "import re\n",
    "import webbrowser"
   ],
   "outputs": [],
   "metadata": {}
  },
  {
   "cell_type": "code",
   "execution_count": 2,
   "source": [
    "f_path = \"csv_files/news_sites/btc_news_sites.csv\""
   ],
   "outputs": [],
   "metadata": {}
  },
  {
   "cell_type": "code",
   "execution_count": null,
   "source": [
    "df = pd.read_csv(f_path)\n",
    "html_sites = df.loc[df['JS'] ==0]\n",
    "df"
   ],
   "outputs": [],
   "metadata": {}
  },
  {
   "cell_type": "code",
   "execution_count": 6,
   "source": [
    "df['JS'].value_counts()"
   ],
   "outputs": [
    {
     "output_type": "execute_result",
     "data": {
      "text/plain": [
       "0    22\n",
       "1    15\n",
       "Name: JS, dtype: int64"
      ]
     },
     "metadata": {},
     "execution_count": 6
    }
   ],
   "metadata": {}
  },
  {
   "cell_type": "code",
   "execution_count": null,
   "source": [
    "#webbrowser.open_new_tab(\"chrome://newtab\")\n",
    "for url in df[\"URL\"]:\n",
    "    webbrowser.open_new_tab(url)"
   ],
   "outputs": [],
   "metadata": {}
  },
  {
   "cell_type": "code",
   "execution_count": null,
   "source": [
    "df = pd.read_csv(f_path)\n",
    "start_urls = []\n",
    "\n",
    "\n",
    "\n",
    "for url in df[\"URL\"]:\n",
    "    start_urls.append(url)\n",
    "start_urls"
   ],
   "outputs": [],
   "metadata": {}
  },
  {
   "cell_type": "code",
   "execution_count": null,
   "source": [
    "df = pd.read_csv(f_path)\n",
    "start_urls = []\n",
    "[start_urls.append(url) for url in df[\"URL\"]]\n",
    "start_urls"
   ],
   "outputs": [],
   "metadata": {}
  },
  {
   "cell_type": "code",
   "execution_count": null,
   "source": [
    "f_path = \"csv_files/news_sites/btc_news_sites.csv\"\n",
    "\n",
    "df = pd.read_csv(f_path)\n",
    "for url in df[\"URL\"]:\n",
    "    print (url)\n",
    "\n",
    "    start_urls = [\n",
    "        url,\n",
    "    ]\n",
    "    try:\n",
    "        site = re.search(r'\\.(.*?)\\.', url).group(1)\n",
    "    except:\n",
    "        site = re.search(r'\\//(.*?)\\.', url).group(1)\n",
    "    site = site.replace('-', '_')\n",
    "    print (site)"
   ],
   "outputs": [],
   "metadata": {}
  },
  {
   "cell_type": "code",
   "execution_count": null,
   "source": [
    "site"
   ],
   "outputs": [],
   "metadata": {}
  },
  {
   "cell_type": "code",
   "execution_count": null,
   "source": [
    "f_path = \"csv_files/news_sites/btc_news_sites.csv\"\n",
    "df = pd.read_csv(f_path)\n",
    "for url in df[\"URL\"]:\n",
    "    print (url)"
   ],
   "outputs": [],
   "metadata": {}
  },
  {
   "cell_type": "code",
   "execution_count": null,
   "source": [
    "url = \"https://seekingalpha.com/symbol/BTC-USD/analysis\"\n",
    "\n",
    "site = re.search(r'\\//(.*?)\\.', url).group(1)\n",
    "print (site)"
   ],
   "outputs": [],
   "metadata": {}
  },
  {
   "cell_type": "code",
   "execution_count": null,
   "source": [
    "urls = list(df['URL'])"
   ],
   "outputs": [],
   "metadata": {}
  },
  {
   "cell_type": "code",
   "execution_count": null,
   "source": [
    "start_urls = [\n",
    "    \"https://www.wsj.com/search?query=bitcoin&mod=searchresults_viewallresults/\",\n",
    "]\n",
    "url = start_urls[0]\n",
    "url"
   ],
   "outputs": [],
   "metadata": {}
  },
  {
   "cell_type": "code",
   "execution_count": null,
   "source": [
    "site = re.search(r'\\.(.*?)\\.', url).group(1)\n",
    "filename = url.split(\"/\")[-1] + f'{site}.html'\n",
    "filename"
   ],
   "outputs": [],
   "metadata": {}
  },
  {
   "cell_type": "code",
   "execution_count": null,
   "source": [],
   "outputs": [],
   "metadata": {}
  },
  {
   "cell_type": "code",
   "execution_count": null,
   "source": [],
   "outputs": [],
   "metadata": {}
  }
 ],
 "metadata": {
  "orig_nbformat": 4,
  "language_info": {
   "name": "python",
   "version": "3.9.6",
   "mimetype": "text/x-python",
   "codemirror_mode": {
    "name": "ipython",
    "version": 3
   },
   "pygments_lexer": "ipython3",
   "nbconvert_exporter": "python",
   "file_extension": ".py"
  },
  "kernelspec": {
   "name": "python3",
   "display_name": "Python 3.9.6 64-bit ('pwepip': conda)"
  },
  "interpreter": {
   "hash": "497581ab8b68e3c2ef39c47d7e3c0ff119b32f5944e17571db2f7dc83154eb86"
  }
 },
 "nbformat": 4,
 "nbformat_minor": 2
}