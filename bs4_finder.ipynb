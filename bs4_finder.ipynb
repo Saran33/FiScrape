{
 "cells": [
  {
   "cell_type": "code",
   "execution_count": 1,
   "source": [
    "from bs4 import BeautifulSoup\n",
    "import requests as rq\n",
    "from unicodedata import normalize\n",
    "import re"
   ],
   "outputs": [],
   "metadata": {}
  },
  {
   "cell_type": "code",
   "execution_count": 2,
   "source": [
    "url = \"https://www.businessinsider.com/author/francis-agustin\""
   ],
   "outputs": [],
   "metadata": {}
  },
  {
   "cell_type": "code",
   "execution_count": 3,
   "source": [
    "response = rq.get(url)\n",
    "page_source = BeautifulSoup(response.text, 'lxml')"
   ],
   "outputs": [],
   "metadata": {}
  },
  {
   "cell_type": "code",
   "execution_count": 4,
   "source": [
    "pos = page_source.find('p', attrs={'data-test': \"author-aside-title\"}).text.strip()\n",
    "pos"
   ],
   "outputs": [
    {
     "output_type": "execute_result",
     "data": {
      "text/plain": [
       "'Business News Fellow'"
      ]
     },
     "metadata": {},
     "execution_count": 4
    }
   ],
   "metadata": {}
  },
  {
   "cell_type": "code",
   "execution_count": 17,
   "source": [
    "author_bio = [a.text.strip() for a in page_source.select('div.col-12.col-md-8.author-description > p')]\n",
    "author_bio = normalize(\"NFKD\", ''.join(map(str, author_bio)).replace('  ', ' ').strip())\n",
    "author_bio"
   ],
   "outputs": [
    {
     "output_type": "execute_result",
     "data": {
      "text/plain": [
       "\"Francis is a Weekend Fellow on Business Insider's News Desk. He is currently based in California.He is a multimedia journalist who has covered topics from corporate news to politics, to youth trends, digital culture/technology, and crime. He attended the University of Southern California, where he studied communication and journalism, and served as a news editor on multiple desks.Have a news tip? Email Francis from a non-work email at fagustin@insider.com\""
      ]
     },
     "metadata": {},
     "execution_count": 17
    }
   ],
   "metadata": {}
  },
  {
   "cell_type": "code",
   "execution_count": 21,
   "source": [
    "# 'a.author-contact-icon-link.share-link.email::attr(href)'\n",
    "\n",
    "author_email = page_source.find('a', attrs={'class': 'author-contact-icon-link share-link email'})['href'].replace('mailto:', '').strip()\n",
    "author_email"
   ],
   "outputs": [
    {
     "output_type": "execute_result",
     "data": {
      "text/plain": [
       "'fagustin@insider.com'"
      ]
     },
     "metadata": {},
     "execution_count": 21
    }
   ],
   "metadata": {}
  },
  {
   "cell_type": "code",
   "execution_count": 22,
   "source": [
    "author_twitter = page_source.find('a', attrs={\n",
    "                    'class': 'author-contact-icon-link share-link twitter'})['href'].strip()\n",
    "author_twitter"
   ],
   "outputs": [
    {
     "output_type": "execute_result",
     "data": {
      "text/plain": [
       "'https://twitter.com/francisnagustin'"
      ]
     },
     "metadata": {},
     "execution_count": 22
    }
   ],
   "metadata": {}
  },
  {
   "cell_type": "code",
   "execution_count": 2,
   "source": [
    "url = 'https://markets.businessinsider.com/news/currencies/stablecoin-regulation-cryptocurrency-banks-biden-treasury-bitcoin-circle-tether-binance-2021-10'"
   ],
   "outputs": [],
   "metadata": {}
  },
  {
   "cell_type": "code",
   "execution_count": 3,
   "source": [
    "response = rq.get(url)\n",
    "page_source = BeautifulSoup(response.text, 'lxml')"
   ],
   "outputs": [],
   "metadata": {}
  },
  {
   "cell_type": "code",
   "execution_count": 30,
   "source": [
    "def remove_articles(text):\n",
    "    # strip the unicode articles\n",
    "    #text = normalize(\"NFKD\", text.strip(u'\\u201c'u'\\u201d'))\n",
    "    text = normalize(\"NFKD\", ''.join(map(str, text)).replace('  ', ' ').strip())\n",
    "    return text\n",
    "\n",
    "from itemloaders.processors import Join, MapCompose\n",
    "from scrapy.item import Item, Field"
   ],
   "outputs": [],
   "metadata": {}
  },
  {
   "cell_type": "code",
   "execution_count": 35,
   "source": [
    "proc = MapCompose(remove_articles)\n",
    "\n",
    "class InsiderArtItem(Item):\n",
    "    content = Field(\n",
    "        input_processor=MapCompose(remove_articles),\n",
    "        # TakeFirst return the first value not the whole list\n",
    "        output_processor=Join()\n",
    "        )\n",
    "\n",
    "article = InsiderArtItem()"
   ],
   "outputs": [],
   "metadata": {}
  },
  {
   "cell_type": "code",
   "execution_count": 32,
   "source": [
    "article_content = [a.text.strip() for a in page_source.select(\n",
    "    'div.col-xs-12.news-content.no-padding > p, div.col-xs-12.news-content.no-padding > ul > li[aria-level*=\"1\"]')] # div.col-xs-12.news-content.no-padding > p > a,\n",
    "article_content"
   ],
   "outputs": [
    {
     "output_type": "execute_result",
     "data": {
      "text/plain": [
       "['The Biden administration is looking into regulating stablecoin issuers as if they are banks - including nudging these firms to register as banks - as the rapidly evolving cryptocurrency space continues to elicit concern from authorities, The Wall Street Journal first reported Friday.',\n",
       " 'The White House is also considering asking Congress to propose legislation to create a special-purpose charter especially tailored to these firms, sources told The Journal. A special-purpose charter would subject the companies to federal oversight rather than state-by-state laws.',\n",
       " \"The administration's recommendations, though still a work in progress, will be included in a Treasury-led paper slated for publishing in late October. Among the authors of the paper are Treasury Secretary Janet Yellen, Federal Reserve Chairman Jerome Powell, and Securities and Exchange Commission Chairman Gary Gensler, who recently compared stablecoins to poker chips.\",\n",
       " 'One recommendation is having the Financial Stability Oversight Council to look into the risks that stablecoins pose to the financial system, though the administration prefers Congress to act since the FSOC can be unwieldy, the Journal said.',\n",
       " 'Meanwhile, the Federal Reserve is also expected to soon release a highly anticipated report on the potential issuance of a digital dollar.',\n",
       " 'Stablecoins are digital tokens pegged to external assets, such as the US dollar, that trade just like bitcoin and ether. They comprise a small chunk of the $2 trillion digital assets market but have caught the eye of regulators due to their breakneck growth.',\n",
       " \"Among well-known stablecoins are those issued by Tether, Circle, and Binance, whose coins' combined valuation has skyrocketed to $110 billion just from $11 billion one year ago.\",\n",
       " 'As such, the lightly regulated space is now the target of authorities. In recent days, regulators have alluded to tough rules for cryptocurrencies.',\n",
       " 'On Wednesday, Gensler warned that cryptocurrency investors are \"likely to get hurt\" if the digital asset space does not have the same kind of protection against fraud and manipulation that bank deposits and insurance have.',\n",
       " 'On Thursday, Powell told Congress that stablecoins are similar to money market funds, which need to be regulated.',\n",
       " '\"Stablecoins are like money market funds, are like bank deposits, but they\\'re to some extent outside the regulatory perimeter and it\\'s appropriate that they be regulated. Same activity, same regulation,\" he said.']"
      ]
     },
     "metadata": {},
     "execution_count": 32
    }
   ],
   "metadata": {}
  },
  {
   "cell_type": "code",
   "execution_count": 36,
   "source": [
    "# article['content'] = article_content\n",
    "# article['content']\n",
    "\n",
    "# article['content'] = [remove_articles(line) for line in article_content]\n",
    "# article['content'] = ' '.join(article['content'])\n",
    "# article['content']\n",
    "\n",
    "article_content = [remove_articles(a.text) for a in page_source.select(\n",
    "    'div.col-xs-12.news-content.no-padding > p, div.col-xs-12.news-content.no-padding > ul > li[aria-level*=\"1\"]')] # div.col-xs-12.news-content.no-padding > p > a,\n",
    "article_content = ''.join(article_content)\n",
    "article_content"
   ],
   "outputs": [
    {
     "output_type": "execute_result",
     "data": {
      "text/plain": [
       "'The Biden administration is looking into regulating stablecoin issuers as if they are banks - including nudging these firms to register as banks - as the rapidly evolving cryptocurrency space continues to elicit concern from authorities, The Wall Street Journal first reported Friday.The White House is also considering asking Congress to propose legislation to create a special-purpose charter especially tailored to these firms, sources told The Journal. A special-purpose charter would subject the companies to federal oversight rather than state-by-state laws.The administration\\'s recommendations, though still a work in progress, will be included in a Treasury-led paper slated for publishing in late October. Among the authors of the paper are Treasury Secretary Janet Yellen, Federal Reserve Chairman Jerome Powell, and Securities and Exchange Commission Chairman Gary Gensler, who recently compared stablecoins to poker chips.One recommendation is having the Financial Stability Oversight Council to look into the risks that stablecoins pose to the financial system, though the administration prefers Congress to act since the FSOC can be unwieldy, the Journal said.Meanwhile, the Federal Reserve is also expected to soon release a highly anticipated report on the potential issuance of a digital dollar.Stablecoins are digital tokens pegged to external assets, such as the US dollar, that trade just like bitcoin and ether. They comprise a small chunk of the $2 trillion digital assets market but have caught the eye of regulators due to their breakneck growth.Among well-known stablecoins are those issued by Tether, Circle, and Binance, whose coins\\' combined valuation has skyrocketed to $110 billion just from $11 billion one year ago.As such, the lightly regulated space is now the target of authorities. In recent days, regulators have alluded to tough rules for cryptocurrencies.On Wednesday, Gensler warned that cryptocurrency investors are \"likely to get hurt\" if the digital asset space does not have the same kind of protection against fraud and manipulation that bank deposits and insurance have.On Thursday, Powell told Congress that stablecoins are similar to money market funds, which need to be regulated.\"Stablecoins are like money market funds, are like bank deposits, but they\\'re to some extent outside the regulatory perimeter and it\\'s appropriate that they be regulated. Same activity, same regulation,\" he said.'"
      ]
     },
     "metadata": {},
     "execution_count": 36
    }
   ],
   "metadata": {}
  },
  {
   "cell_type": "code",
   "execution_count": null,
   "source": [],
   "outputs": [],
   "metadata": {}
  }
 ],
 "metadata": {
  "orig_nbformat": 4,
  "language_info": {
   "name": "python",
   "version": "3.9.6",
   "mimetype": "text/x-python",
   "codemirror_mode": {
    "name": "ipython",
    "version": 3
   },
   "pygments_lexer": "ipython3",
   "nbconvert_exporter": "python",
   "file_extension": ".py"
  },
  "kernelspec": {
   "name": "python3",
   "display_name": "Python 3.9.6 64-bit ('pwepip': conda)"
  },
  "interpreter": {
   "hash": "497581ab8b68e3c2ef39c47d7e3c0ff119b32f5944e17571db2f7dc83154eb86"
  }
 },
 "nbformat": 4,
 "nbformat_minor": 2
}