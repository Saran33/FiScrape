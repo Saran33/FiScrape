{
 "cells": [
  {
   "cell_type": "code",
   "execution_count": 10,
   "source": [
    "import requests as rq\n",
    "from bs4 import BeautifulSoup as Bs"
   ],
   "outputs": [],
   "metadata": {}
  },
  {
   "cell_type": "code",
   "execution_count": 5,
   "source": [
    "url = \"https://www.zerohedge.com/search-content?qTitleBody=bitcoin&page=0\""
   ],
   "outputs": [],
   "metadata": {}
  },
  {
   "cell_type": "code",
   "execution_count": 6,
   "source": [
    "r = rq.get('http://localhost:8050/render.html', params={'url': url, 'wait':2})"
   ],
   "outputs": [],
   "metadata": {}
  },
  {
   "cell_type": "code",
   "execution_count": null,
   "source": [
    "print (r.text)"
   ],
   "outputs": [],
   "metadata": {}
  },
  {
   "cell_type": "code",
   "execution_count": 11,
   "source": [
    "soup = Bs(r.text, 'html.parser')\n",
    "\n",
    "print (soup.title.text)\n",
    "# print (soup.text)"
   ],
   "outputs": [
    {
     "output_type": "stream",
     "name": "stdout",
     "text": [
      "Search | Zero Hedge\n"
     ]
    }
   ],
   "metadata": {}
  },
  {
   "cell_type": "code",
   "execution_count": 14,
   "source": [
    "page_source = Bs(r.text, 'lxml')\n",
    "print (page_source.title.text)"
   ],
   "outputs": [
    {
     "output_type": "stream",
     "name": "stdout",
     "text": [
      "Search | Zero Hedge\n"
     ]
    }
   ],
   "metadata": {}
  },
  {
   "cell_type": "code",
   "execution_count": 15,
   "source": [
    "snippets = [snippet for snippet in page_source.select('div.SearchResult_container__BnK-I > p')]"
   ],
   "outputs": [],
   "metadata": {}
  },
  {
   "cell_type": "code",
   "execution_count": 18,
   "source": [
    "titles = [a.text.strip() for a in page_source.select('div.SearchResult_container__BnK-I > div.SearchResult_title__2OME_ > a')]\n",
    "titles"
   ],
   "outputs": [
    {
     "output_type": "execute_result",
     "data": {
      "text/plain": [
       "['Outlook For Property, Bitcoin, Cryptos and Gold in the Zombie Economy (Part II)',\n",
       " 'Is Bitcoin the Model-T of Money?',\n",
       " 'Three Iranian Power Plants Will Soon Be Mining Bitcoin',\n",
       " \"Gold, Bitcoin, and Bonds- 'Few Alternatives Now'\",\n",
       " \"Bitcoin's Bull-Case Gets Big Boost As Calls For Negative Rates Mount\",\n",
       " 'GoldFix: Central Banks Buy Gold, Why Not Bitcoin?',\n",
       " 'Bitcoin Versus Gold: A Tired Debate',\n",
       " 'Ethereum Fixes Bitcoin',\n",
       " 'Bitcoin, Oil, Nat Gas, Gold Technical Overview- Moor Analytics',\n",
       " 'Bitcoin, Oil, Nat Gas, Gold Technical Overview- Moor Analytics',\n",
       " 'Bitcoin Beats Gold: Saylor-Giustra Debate Prep',\n",
       " 'WATCH: The Ethos of Bitcoin - Valkenburgh Testimony',\n",
       " \"OCC Just Castrated Bitcoin's Value\",\n",
       " 'Hyperbitcoinization: By Choice Or By Force?',\n",
       " 'Nat Gas, Gold, and Bitcoin Technical Overview- Moor Analytics',\n",
       " 'Five Reasons The SEC Should Approve Bitcoin ETFs',\n",
       " 'From Livestock To Bitcoin: \"Legitimacy\" & The Evolution Of Money',\n",
       " \"Crypto Continues Crashing - 5 Lessons From Bitcoin's Very Bad Week\",\n",
       " 'Gold Vs Bitcoin & The Death Of Money',\n",
       " 'Google Aims For Commercial Quantum Computer By 2029, What Would That Do To Bitcoin?']"
      ]
     },
     "metadata": {},
     "execution_count": 18
    }
   ],
   "metadata": {}
  },
  {
   "cell_type": "code",
   "execution_count": 20,
   "source": [
    "article_links = [a['href'] for a in page_source.select('div.SearchResult_container__BnK-I > div.SearchResult_title__2OME_ > a')]\n",
    "article_links"
   ],
   "outputs": [
    {
     "output_type": "execute_result",
     "data": {
      "text/plain": [
       "['/news/2020-06-22/outlook-property-bitcoin-cryptos-and-gold-zombie-economy-part-ii',\n",
       " '/news/2021-01-19/bitcoin-model-t-money',\n",
       " '/crypto/three-iranian-power-plants-will-soon-be-mining-bitcoin',\n",
       " '/news/2021-08-25/gold-bitcoin-and-bonds-few-alternatives-now',\n",
       " '/crypto/bitcoins-bull-case-gets-big-boost-calls-negative-rates-mount',\n",
       " '/news/2021-04-09/goldfix-central-banks-buy-gold-why-not-bitcoin',\n",
       " '/markets/bitcoin-versus-gold-tired-debate',\n",
       " '/news/2021-03-06/ethereum-fixes-bitcoin',\n",
       " '/news/2021-08-26/bitcoin-oil-nat-gas-gold-technical-overview-moor-analytics',\n",
       " '/news/2021-09-03/bitcoin-oil-nat-gas-gold-technical-overview-moor-analytics',\n",
       " '/news/2021-04-17/bitcoin-beats-gold-saylor-giustra-debate-prep',\n",
       " '/news/2021-07-01/watch-ethos-bitcoin-valkenburgh-testimony',\n",
       " '/news/2021-01-05/occ-just-castrated-bitcoins-value',\n",
       " '/crypto/hyperbitcoinization-choice-or-force',\n",
       " '/news/2021-09-14/nat-gas-gold-and-bitcoin-technical-overview-moor-analytics',\n",
       " '/crypto/five-reasons-sec-should-approve-bitcoin-etfs',\n",
       " '/crypto/livestock-bitcoin-legitimacy-evolution-money',\n",
       " '/crypto/crypto-continues-crashing-5-lessons-bitcoins-very-bad-week',\n",
       " '/markets/gold-vs-bitcoin-death-money',\n",
       " '/crypto/google-aims-commercial-quantum-computer-2029-what-would-do-bitcoin']"
      ]
     },
     "metadata": {},
     "execution_count": 20
    }
   ],
   "metadata": {}
  }
 ],
 "metadata": {
  "orig_nbformat": 4,
  "language_info": {
   "name": "python",
   "version": "3.9.6",
   "mimetype": "text/x-python",
   "codemirror_mode": {
    "name": "ipython",
    "version": 3
   },
   "pygments_lexer": "ipython3",
   "nbconvert_exporter": "python",
   "file_extension": ".py"
  },
  "kernelspec": {
   "name": "python3",
   "display_name": "Python 3.9.6 64-bit ('pwepip': conda)"
  },
  "interpreter": {
   "hash": "497581ab8b68e3c2ef39c47d7e3c0ff119b32f5944e17571db2f7dc83154eb86"
  }
 },
 "nbformat": 4,
 "nbformat_minor": 2
}